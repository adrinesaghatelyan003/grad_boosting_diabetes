{
 "cells": [
  {
   "cell_type": "markdown",
   "id": "a1eb718b",
   "metadata": {},
   "source": [
    "import all the libraries and functions"
   ]
  },
  {
   "cell_type": "markdown",
   "id": "d0e8e5f7",
   "metadata": {},
   "source": [
    "read csv file"
   ]
  },
  {
   "cell_type": "markdown",
   "id": "dad2272d",
   "metadata": {},
   "source": [
    "change features that have more than two categories"
   ]
  },
  {
   "cell_type": "markdown",
   "id": "ad287f1a",
   "metadata": {},
   "source": [
    "separate label column from the rest information (X,y)"
   ]
  },
  {
   "cell_type": "markdown",
   "id": "6703a84c",
   "metadata": {},
   "source": [
    "divide dataset into train , validation , test groups"
   ]
  },
  {
   "cell_type": "markdown",
   "id": "ca1d2f78",
   "metadata": {},
   "source": [
    "define function classifier_predict() that takes X and y as parameters and prints accuracy "
   ]
  },
  {
   "cell_type": "markdown",
   "id": "ce8c2608",
   "metadata": {},
   "source": [
    "try logistic regression to find out what feature is not linear and what is linear"
   ]
  },
  {
   "cell_type": "markdown",
   "id": "09cc56ee",
   "metadata": {},
   "source": [
    "make dataframe which shows features and their importances after classification algorithm"
   ]
  },
  {
   "cell_type": "markdown",
   "id": "058ab93e",
   "metadata": {},
   "source": [
    "plot graph as barplot (dataframe wich we made in previous step)"
   ]
  },
  {
   "cell_type": "markdown",
   "id": "09b01b06",
   "metadata": {},
   "source": [
    "use grid_search() function to find out which hyperparameters are the best"
   ]
  },
  {
   "cell_type": "markdown",
   "id": "870381ea",
   "metadata": {},
   "source": [
    "make new features as Older_Smoker, HeartDeseace_Smoker, High_Glucose_HeartDisease"
   ]
  },
  {
   "cell_type": "raw",
   "id": "be097be3",
   "metadata": {},
   "source": [
    "use BayesianOptimization as another way to find out best values for hyperparameters"
   ]
  },
  {
   "cell_type": "markdown",
   "id": "fac323c1",
   "metadata": {},
   "source": []
  }
 ],
 "metadata": {
  "kernelspec": {
   "display_name": "Python 3 (ipykernel)",
   "language": "python",
   "name": "python3"
  },
  "language_info": {
   "codemirror_mode": {
    "name": "ipython",
    "version": 3
   },
   "file_extension": ".py",
   "mimetype": "text/x-python",
   "name": "python",
   "nbconvert_exporter": "python",
   "pygments_lexer": "ipython3",
   "version": "3.9.13"
  }
 },
 "nbformat": 4,
 "nbformat_minor": 5
}
