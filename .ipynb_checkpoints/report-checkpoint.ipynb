{
 "cells": [
  {
   "cell_type": "markdown",
   "id": "4ebf6425",
   "metadata": {},
   "source": [
    "import all the libraries and functions"
   ]
  },
  {
   "cell_type": "markdown",
   "id": "10efbc39",
   "metadata": {},
   "source": [
    "read csv file"
   ]
  },
  {
   "cell_type": "markdown",
   "id": "861acc70",
   "metadata": {},
   "source": [
    "change features that have more than two categories"
   ]
  },
  {
   "cell_type": "markdown",
   "id": "207ac671",
   "metadata": {},
   "source": [
    "separate label column from the rest information (X,y)"
   ]
  },
  {
   "cell_type": "markdown",
   "id": "3186dce6",
   "metadata": {},
   "source": [
    "divide dataset into train , validation , test groups"
   ]
  },
  {
   "cell_type": "markdown",
   "id": "e6de323a",
   "metadata": {},
   "source": [
    "define function classifier_predict() that takes X and y as parameters and prints accuracy "
   ]
  },
  {
   "cell_type": "markdown",
   "id": "e1e1c7f3",
   "metadata": {},
   "source": [
    "try logistic regression to find out what feature is not linear and what is linear"
   ]
  },
  {
   "cell_type": "markdown",
   "id": "1b3313ed",
   "metadata": {},
   "source": [
    "make dataframe which shows features and their importances after classification algorithm"
   ]
  },
  {
   "cell_type": "markdown",
   "id": "2a58321a",
   "metadata": {},
   "source": [
    "plot graph as barplot (dataframe wich we made in previous step)"
   ]
  },
  {
   "cell_type": "markdown",
   "id": "8ac8e3fc",
   "metadata": {},
   "source": []
  }
 ],
 "metadata": {
  "kernelspec": {
   "display_name": "Python 3 (ipykernel)",
   "language": "python",
   "name": "python3"
  },
  "language_info": {
   "codemirror_mode": {
    "name": "ipython",
    "version": 3
   },
   "file_extension": ".py",
   "mimetype": "text/x-python",
   "name": "python",
   "nbconvert_exporter": "python",
   "pygments_lexer": "ipython3",
   "version": "3.9.13"
  }
 },
 "nbformat": 4,
 "nbformat_minor": 5
}
